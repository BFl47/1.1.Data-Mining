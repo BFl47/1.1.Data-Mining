{
 "cells": [
  {
   "cell_type": "markdown",
   "id": "8fd5f28a",
   "metadata": {},
   "source": [
    "# Decision Tree"
   ]
  },
  {
   "cell_type": "code",
   "execution_count": 2,
   "id": "ef166083",
   "metadata": {},
   "outputs": [
    {
     "name": "stdout",
     "output_type": "stream",
     "text": [
      "Mean Squared Error (MSE): 21375.80\n",
      "Root Mean Squared Error (RMSE): 146.20\n",
      "Mean Absolute Error (MAE): 88.71\n",
      "R² Score: 0.03\n",
      "\n",
      "Total runtime: 34.79 seconds\n"
     ]
    }
   ],
   "source": [
    "# 1. Import necessary libraries\n",
    "import time  \n",
    "import pandas as pd\n",
    "import numpy as np\n",
    "from sklearn.tree import DecisionTreeRegressor, plot_tree\n",
    "from sklearn.metrics import mean_squared_error, mean_absolute_error, r2_score\n",
    "import matplotlib.pyplot as plt\n",
    "\n",
    "start_time = time.time()\n",
    "\n",
    "# 2. Load your preprocessed data\n",
    "train_df = pd.read_csv(\"preprocessed_train3.csv\")\n",
    "test_df = pd.read_csv(\"preprocessed_test3.csv\")\n",
    "\n",
    "# 3. Define target\n",
    "target_column = 'baseFare'\n",
    "\n",
    "X_train = train_df.drop(columns=[target_column])\n",
    "y_train = train_df[target_column]\n",
    "\n",
    "X_test = test_df.drop(columns=[target_column])\n",
    "y_test = test_df[target_column]\n",
    "\n",
    "X_test = X_test[X_train.columns]\n",
    "\n",
    "# 4. Initialize and train the model\n",
    "regressor = DecisionTreeRegressor(random_state=42)\n",
    "regressor.fit(X_train, y_train)\n",
    "\n",
    "# 5. Predict on the test set\n",
    "y_pred = regressor.predict(X_test)\n",
    "\n",
    "# 6. Evaluate model\n",
    "mse = mean_squared_error(y_test, y_pred)\n",
    "rmse = np.sqrt(mse)\n",
    "mae = mean_absolute_error(y_test, y_pred)\n",
    "r2 = r2_score(y_test, y_pred)\n",
    "\n",
    "print(f\"Mean Squared Error (MSE): {mse:.2f}\")\n",
    "print(f\"Root Mean Squared Error (RMSE): {rmse:.2f}\")\n",
    "print(f\"Mean Absolute Error (MAE): {mae:.2f}\")\n",
    "print(f\"R² Score: {r2:.2f}\")\n",
    "\n",
    "end_time = time.time()\n",
    "elapsed_time = end_time - start_time\n",
    "print(f\"\\nTotal runtime: {elapsed_time:.2f} seconds\")"
   ]
  },
  {
   "cell_type": "markdown",
   "id": "98dbcfab",
   "metadata": {},
   "source": [
    "# Decision Tree Regression with Hyperparameter Tuning (GridSearchCV)"
   ]
  },
  {
   "cell_type": "code",
   "execution_count": 4,
   "id": "173f3428",
   "metadata": {},
   "outputs": [
    {
     "name": "stdout",
     "output_type": "stream",
     "text": [
      "Best Hyperparameters: {'max_depth': None, 'min_samples_leaf': 20}\n",
      "Mean Squared Error (MSE): 14807.22\n",
      "Root Mean Squared Error (RMSE): 121.68\n",
      "Mean Absolute Error (MAE): 78.81\n",
      "R^2 Score: 0.33\n",
      "\n",
      "Total runtime: 381.83 seconds\n"
     ]
    }
   ],
   "source": [
    "start_time = time.time()\n",
    "\n",
    "# 1. Import necessary libraries\n",
    "import pandas as pd\n",
    "import numpy as np\n",
    "from sklearn.model_selection import GridSearchCV\n",
    "from sklearn.tree import DecisionTreeRegressor, plot_tree\n",
    "from sklearn.metrics import mean_squared_error, mean_absolute_error, r2_score\n",
    "import matplotlib.pyplot as plt\n",
    "\n",
    "# 2. Load your train and test sets\n",
    "train_df = pd.read_csv(\"preprocessed_train3.csv\")  \n",
    "test_df = pd.read_csv(\"preprocessed_test3.csv\")    \n",
    "\n",
    "# 3. Define target and features\n",
    "target_column = 'baseFare'\n",
    "X_train = train_df.drop(columns=[target_column])\n",
    "y_train = train_df[target_column]\n",
    "\n",
    "X_test = test_df.drop(columns=[target_column])\n",
    "y_test = test_df[target_column]\n",
    "\n",
    "X_test = X_test[X_train.columns]\n",
    "\n",
    "# 4. Set up the model and parameter grid for GridSearchCV\n",
    "regressor = DecisionTreeRegressor(random_state=42)\n",
    "\n",
    "param_grid = {\n",
    "    'max_depth': [3, 5, 7, 10, 15, 20, None],\n",
    "    'min_samples_leaf': [1, 2, 5, 10, 20]\n",
    "}\n",
    "\n",
    "# 5. Perform Grid Search with 5-fold Cross-Validation\n",
    "grid_search = GridSearchCV(\n",
    "    estimator=regressor,\n",
    "    param_grid=param_grid,\n",
    "    cv=5,\n",
    "    scoring='r2',\n",
    "    n_jobs=-1\n",
    ")\n",
    "grid_search.fit(X_train, y_train)\n",
    "\n",
    "print(f\"Best Hyperparameters: {grid_search.best_params_}\")\n",
    "\n",
    "# 6. Train the best model found\n",
    "best_regressor = grid_search.best_estimator_\n",
    "best_regressor.fit(X_train, y_train)\n",
    "\n",
    "# 7. Predict on the specified test set\n",
    "y_pred = best_regressor.predict(X_test)\n",
    "\n",
    "# 8. Evaluate the model\n",
    "mse = mean_squared_error(y_test, y_pred)\n",
    "rmse = np.sqrt(mse)\n",
    "mae = mean_absolute_error(y_test, y_pred)\n",
    "r2 = r2_score(y_test, y_pred)\n",
    "\n",
    "print(f\"Mean Squared Error (MSE): {mse:.2f}\")\n",
    "print(f\"Root Mean Squared Error (RMSE): {rmse:.2f}\")\n",
    "print(f\"Mean Absolute Error (MAE): {mae:.2f}\")\n",
    "print(f\"R^2 Score: {r2:.2f}\")\n",
    "\n",
    "end_time = time.time()\n",
    "elapsed_time = end_time - start_time\n",
    "print(f\"\\nTotal runtime: {elapsed_time:.2f} seconds\")"
   ]
  }
 ],
 "metadata": {
  "kernelspec": {
   "display_name": "Python [conda env:base] *",
   "language": "python",
   "name": "conda-base-py"
  },
  "language_info": {
   "codemirror_mode": {
    "name": "ipython",
    "version": 3
   },
   "file_extension": ".py",
   "mimetype": "text/x-python",
   "name": "python",
   "nbconvert_exporter": "python",
   "pygments_lexer": "ipython3",
   "version": "3.12.7"
  }
 },
 "nbformat": 4,
 "nbformat_minor": 5
}
